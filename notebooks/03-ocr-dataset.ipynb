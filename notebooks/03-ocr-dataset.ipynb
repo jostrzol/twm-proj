{
 "cells": [
  {
   "cell_type": "code",
   "execution_count": 78,
   "metadata": {},
   "outputs": [],
   "source": [
    "from string import ascii_uppercase, digits\n",
    "from PIL import Image, ImageDraw, ImageFont\n",
    "import os"
   ]
  },
  {
   "cell_type": "code",
   "execution_count": 79,
   "metadata": {},
   "outputs": [],
   "source": [
    "output_dir = \"../datasets/02-letters\"\n",
    "\n",
    "!mkdir -p $output_dir"
   ]
  },
  {
   "cell_type": "code",
   "execution_count": 80,
   "metadata": {},
   "outputs": [],
   "source": [
    "font = ImageFont.truetype(\"arklatrs.ttf\", 70)"
   ]
  },
  {
   "cell_type": "code",
   "execution_count": 81,
   "metadata": {},
   "outputs": [],
   "source": [
    "letters = ascii_uppercase + digits\n",
    "\n",
    "# Q is not used for license plates\n",
    "# fonts don't even define them\n",
    "letters = letters.replace(\"Q\", \"\") \n",
    "\n",
    "for letter in letters:\n",
    "\n",
    "    image = Image.new(\"RGB\", (60, 80), (255, 255, 255))\n",
    "    draw = ImageDraw.Draw(image)\n",
    "\n",
    "    bbox = draw.textbbox((0, 0), letter, font=font)\n",
    "    text_width = bbox[2] - bbox[0]\n",
    "    text_height = bbox[3] - bbox[1]\n",
    "\n",
    "    text_x = (image.width - text_width) / 2\n",
    "    text_y = (image.height - text_height) / 2 - 10\n",
    "    draw.text((text_x, text_y), letter, font=font, fill=(0, 0, 0))\n",
    "\n",
    "    image_path = os.path.join(output_dir, f\"{letter}.png\")\n",
    "    image.save(image_path)"
   ]
  }
 ],
 "metadata": {
  "kernelspec": {
   "display_name": "twm-proj-vrEggUXf-py3.10",
   "language": "python",
   "name": "python3"
  },
  "language_info": {
   "codemirror_mode": {
    "name": "ipython",
    "version": 3
   },
   "file_extension": ".py",
   "mimetype": "text/x-python",
   "name": "python",
   "nbconvert_exporter": "python",
   "pygments_lexer": "ipython3",
   "version": "3.10.12"
  }
 },
 "nbformat": 4,
 "nbformat_minor": 2
}
