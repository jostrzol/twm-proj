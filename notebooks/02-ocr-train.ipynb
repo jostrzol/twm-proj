{
  "cells": [
    {
      "cell_type": "markdown",
      "metadata": {},
      "source": [
        "> This notebook is intended to be used in Google Colab"
      ]
    },
    {
      "cell_type": "code",
      "execution_count": 357,
      "metadata": {
        "id": "soEi9KUfy5GO"
      },
      "outputs": [],
      "source": [
        "import tensorflow as tf\n",
        "from tensorflow.keras.preprocessing.image import ImageDataGenerator\n",
        "from tensorflow.keras.models import Sequential\n",
        "from tensorflow.keras.layers import Conv2D, MaxPooling2D, Flatten, Dense, BatchNormalization, Dropout\n",
        "import cv2\n",
        "import os\n",
        "import numpy as np\n",
        "import matplotlib.pyplot as plt\n",
        "from sklearn.model_selection import train_test_split"
      ]
    },
    {
      "cell_type": "code",
      "execution_count": 358,
      "metadata": {
        "id": "qHY3-EMbzHyy"
      },
      "outputs": [],
      "source": [
        "directory = 'letters/'\n",
        "\n",
        "# Parameters\n",
        "img_height, img_width = 80, 60\n",
        "batch_size = 32\n",
        "epochs = 10\n",
        "num_augmented_images = 500\n",
        "\n",
        "images = []\n",
        "labels = []\n",
        "\n",
        "for filename in os.listdir(directory):\n",
        "    if filename.endswith('.png'):\n",
        "        img_path = os.path.join(directory, filename)\n",
        "        label = filename.split('.')[0]\n",
        "        img = cv2.imread(img_path)\n",
        "        img = cv2.cvtColor(img, cv2.COLOR_BGR2GRAY)\n",
        "        _, img = cv2.threshold(img, 127, 255, cv2.THRESH_BINARY)\n",
        "        img = cv2.resize(img, (img_width, img_height))\n",
        "        images.append(img)\n",
        "        labels.append(label)\n",
        "\n",
        "# Convert lists to numpy arrays\n",
        "images = np.array(images)\n",
        "labels = np.array(labels)\n",
        "\n",
        "images = np.expand_dims(images, axis=-1)\n"
      ]
    },
    {
      "cell_type": "code",
      "execution_count": 359,
      "metadata": {
        "colab": {
          "base_uri": "https://localhost:8080/",
          "height": 485
        },
        "id": "8kpYBXlbzNUd",
        "outputId": "6db738d4-2125-4fab-adb6-556be9fe85e4"
      },
      "outputs": [
        {
          "name": "stdout",
          "output_type": "stream",
          "text": [
            "R\n",
            "(80, 60, 1)\n"
          ]
        },
        {
          "data": {
            "text/plain": [
              "<matplotlib.image.AxesImage at 0x79bba1d7f4c0>"
            ]
          },
          "execution_count": 359,
          "metadata": {},
          "output_type": "execute_result"
        },
        {
          "data": {
            "image/png": "[encoded data removed]",
            "text/plain": [
              "<Figure size 640x480 with 1 Axes>"
            ]
          },
          "metadata": {},
          "output_type": "display_data"
        }
      ],
      "source": [
        "print(labels[0])\n",
        "print(images[0].shape)\n",
        "plt.imshow(images[0])"
      ]
    },
    {
      "cell_type": "code",
      "execution_count": 360,
      "metadata": {
        "id": "xDz94yF7y3wX"
      },
      "outputs": [],
      "source": [
        "def label_to_index(label):\n",
        "    if 'A' <= label <= 'Z':\n",
        "        return ord(label) - ord('A')\n",
        "    elif '0' <= label <= '9':\n",
        "        return ord(label) - ord('0') + 26\n",
        "    else:\n",
        "        raise ValueError(f\"Unsupported label: {label}\")\n",
        "\n",
        "labels = tf.keras.utils.to_categorical([label_to_index(label) for label in labels], num_classes=36)\n",
        "\n",
        "def custom_preprocessing(image):\n",
        "    kernel = cv2.getStructuringElement(cv2.MORPH_ELLIPSE, (5, 5))\n",
        "    closed_image = cv2.morphologyEx(image, cv2.MORPH_CLOSE, kernel)\n",
        "    rounded_image = cv2.morphologyEx(closed_image, cv2.MORPH_OPEN, kernel)\n",
        "    img_array = rounded_image.reshape(rounded_image.shape + (1,))\n",
        "    return img_array\n",
        "\n",
        "datagen = ImageDataGenerator(\n",
        "    rotation_range=10,\n",
        "    width_shift_range=0.2,\n",
        "    height_shift_range=0.1,\n",
        "    shear_range=0.1,\n",
        "    zoom_range=0.1,\n",
        "    horizontal_flip=False,\n",
        "    fill_mode='nearest',\n",
        "    preprocessing_function=custom_preprocessing\n",
        ")\n",
        "\n",
        "augmented_images = []\n",
        "augmented_labels = []\n",
        "\n",
        "for i, image in enumerate(images):\n",
        "    img_array = image.reshape((1,) + image.shape)\n",
        "    label = labels[i]\n",
        "\n",
        "    j = 0\n",
        "    for batch in datagen.flow(img_array, batch_size=1):\n",
        "        augmented_images.append(batch[0])\n",
        "        augmented_labels.append(label)\n",
        "        j += 1\n",
        "        if j >= num_augmented_images:\n",
        "            break\n",
        "\n",
        "augmented_images = np.array(augmented_images)\n",
        "augmented_labels = np.array(augmented_labels)\n",
        "\n",
        "augmented_images = augmented_images / 255.0\n",
        "\n",
        "x_train, x_val, y_train, y_val = train_test_split(augmented_images, augmented_labels, test_size=0.2, random_state=42)"
      ]
    },
    {
      "cell_type": "code",
      "execution_count": 361,
      "metadata": {
        "colab": {
          "base_uri": "https://localhost:8080/"
        },
        "id": "5gjZ05BgZYDH",
        "outputId": "b91f6af7-b6c0-44e5-f050-11d781b90efc"
      },
      "outputs": [
        {
          "data": {
            "text/plain": [
              "array([0., 0., 0., 0., 0., 0., 0., 0., 0., 0., 0., 0., 0., 0., 0., 0., 0.,\n",
              "       1., 0., 0., 0., 0., 0., 0., 0., 0., 0., 0., 0., 0., 0., 0., 0., 0.,\n",
              "       0., 0.], dtype=float32)"
            ]
          },
          "execution_count": 361,
          "metadata": {},
          "output_type": "execute_result"
        }
      ],
      "source": [
        "labels[0]"
      ]
    },
    {
      "cell_type": "code",
      "execution_count": 362,
      "metadata": {
        "id": "ut8GBpdvfpZ1"
      },
      "outputs": [],
      "source": [
        "import random"
      ]
    },
    {
      "cell_type": "code",
      "execution_count": 363,
      "metadata": {
        "colab": {
          "base_uri": "https://localhost:8080/",
          "height": 450
        },
        "id": "J3zXc2X123ka",
        "outputId": "844b11b5-48a3-411d-ac13-bb3271bf7a4a"
      },
      "outputs": [
        {
          "data": {
            "text/plain": [
              "<matplotlib.image.AxesImage at 0x79bba1bfa080>"
            ]
          },
          "execution_count": 363,
          "metadata": {},
          "output_type": "execute_result"
        },
        {
          "data": {
            "image/png": "[encoded data removed]",
            "text/plain": [
              "<Figure size 640x480 with 1 Axes>"
            ]
          },
          "metadata": {},
          "output_type": "display_data"
        }
      ],
      "source": [
        "plt.imshow(x_train[random.randint(0, 150)])"
      ]
    },
    {
      "cell_type": "code",
      "execution_count": 364,
      "metadata": {
        "colab": {
          "base_uri": "https://localhost:8080/"
        },
        "id": "jroTPlaU23RE",
        "outputId": "fa097e86-6cb2-402b-ace7-702573b71b82"
      },
      "outputs": [
        {
          "name": "stdout",
          "output_type": "stream",
          "text": [
            "Epoch 1/10\n",
            "438/438 [==============================] - 90s 204ms/step - loss: 0.0597 - accuracy: 0.6478 - val_loss: 0.0130 - val_accuracy: 0.9589\n",
            "Epoch 2/10\n",
            "438/438 [==============================] - 89s 203ms/step - loss: 0.0069 - accuracy: 0.9824 - val_loss: 0.0039 - val_accuracy: 0.9917\n",
            "Epoch 3/10\n",
            "438/438 [==============================] - 93s 213ms/step - loss: 0.0024 - accuracy: 0.9949 - val_loss: 0.0046 - val_accuracy: 0.9914\n",
            "Epoch 4/10\n",
            "438/438 [==============================] - 93s 211ms/step - loss: 0.0012 - accuracy: 0.9979 - val_loss: 0.0019 - val_accuracy: 0.9963\n",
            "Epoch 5/10\n",
            "438/438 [==============================] - 90s 206ms/step - loss: 0.0013 - accuracy: 0.9987 - val_loss: 0.0022 - val_accuracy: 0.9937\n",
            "Epoch 6/10\n",
            "438/438 [==============================] - 95s 216ms/step - loss: 0.0015 - accuracy: 0.9989 - val_loss: 0.0024 - val_accuracy: 0.9971\n",
            "Epoch 7/10\n",
            "438/438 [==============================] - 91s 208ms/step - loss: 5.0929e-04 - accuracy: 0.9998 - val_loss: 8.3575e-04 - val_accuracy: 0.9991\n",
            "Epoch 8/10\n",
            "438/438 [==============================] - 89s 204ms/step - loss: 9.2765e-04 - accuracy: 0.9993 - val_loss: 0.0017 - val_accuracy: 0.9963\n",
            "Epoch 9/10\n",
            "438/438 [==============================] - 91s 208ms/step - loss: 6.7750e-04 - accuracy: 0.9996 - val_loss: 8.5319e-04 - val_accuracy: 0.9989\n",
            "Epoch 10/10\n",
            "438/438 [==============================] - 90s 207ms/step - loss: 1.5296e-04 - accuracy: 0.9998 - val_loss: 6.0695e-04 - val_accuracy: 0.9994\n"
          ]
        },
        {
          "data": {
            "text/plain": [
              "<keras.src.callbacks.History at 0x79bba1c7c6a0>"
            ]
          },
          "execution_count": 364,
          "metadata": {},
          "output_type": "execute_result"
        }
      ],
      "source": [
        "# Build a simple CNN model\n",
        "model = Sequential([\n",
        "    Conv2D(32, (3, 3), activation='relu', input_shape=(img_height, img_width, 1)),\n",
        "    MaxPooling2D(pool_size=(2, 2)),\n",
        "    Conv2D(64, (3, 3), activation='relu'),\n",
        "    MaxPooling2D(pool_size=(2, 2)),\n",
        "    Flatten(),\n",
        "    Dense(128, activation='relu'),\n",
        "    Dense(36, activation='sigmoid')\n",
        "])\n",
        "\n",
        "# Compile the model\n",
        "model.compile(optimizer='adam', loss='binary_crossentropy', metrics=['accuracy'])\n",
        "\n",
        "# Train the model\n",
        "model.fit(\n",
        "    x_train, y_train,\n",
        "    epochs=epochs,\n",
        "    batch_size=batch_size,\n",
        "    validation_data=(x_val, y_val)\n",
        ")\n",
        "\n"
      ]
    },
    {
      "cell_type": "code",
      "execution_count": 365,
      "metadata": {
        "id": "XIwMx0i8B1Eh"
      },
      "outputs": [],
      "source": [
        "model.save('ocr.keras')"
      ]
    }
  ],
  "metadata": {
    "colab": {
      "provenance": []
    },
    "kernelspec": {
      "display_name": "Python 3",
      "name": "python3"
    },
    "language_info": {
      "name": "python"
    }
  },
  "nbformat": 4,
  "nbformat_minor": 0
}
