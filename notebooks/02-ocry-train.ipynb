{
  "cells": [
    {
      "cell_type": "markdown",
      "metadata": {},
      "source": [
        "> This notebook is intended to be used in Google Colab"
      ]
    },
    {
      "cell_type": "code",
      "execution_count": 292,
      "metadata": {
        "id": "soEi9KUfy5GO"
      },
      "outputs": [],
      "source": [
        "import tensorflow as tf\n",
        "from tensorflow.keras.preprocessing.image import ImageDataGenerator\n",
        "from tensorflow.keras.models import Sequential\n",
        "from tensorflow.keras.layers import Conv2D, MaxPooling2D, Flatten, Dense\n",
        "import cv2\n",
        "import os\n",
        "import numpy as np\n",
        "import matplotlib.pyplot as plt\n",
        "from sklearn.model_selection import train_test_split"
      ]
    },
    {
      "cell_type": "code",
      "execution_count": 293,
      "metadata": {
        "id": "qHY3-EMbzHyy"
      },
      "outputs": [],
      "source": [
        "directory = 'letters/'\n",
        "\n",
        "# Parameters\n",
        "img_height, img_width = 80, 60\n",
        "batch_size = 32\n",
        "epochs = 12\n",
        "num_augmented_images = 200\n",
        "\n",
        "images = []\n",
        "labels = []\n",
        "\n",
        "for filename in os.listdir(directory):\n",
        "    if filename.endswith('.png'):\n",
        "        img_path = os.path.join(directory, filename)\n",
        "        label = filename.split('.')[0]\n",
        "        img = cv2.imread(img_path)\n",
        "        img = cv2.cvtColor(img, cv2.COLOR_BGR2GRAY)\n",
        "        _, img = cv2.threshold(img, 127, 255, cv2.THRESH_BINARY)\n",
        "        img = cv2.resize(img, (img_width, img_height))\n",
        "        images.append(img)\n",
        "        labels.append(label)\n",
        "\n",
        "# Convert lists to numpy arrays\n",
        "images = np.array(images)\n",
        "labels = np.array(labels)\n",
        "\n",
        "images = np.expand_dims(images, axis=-1)\n"
      ]
    },
    {
      "cell_type": "code",
      "execution_count": 294,
      "metadata": {
        "colab": {
          "base_uri": "https://localhost:8080/",
          "height": 485
        },
        "id": "8kpYBXlbzNUd",
        "outputId": "1eb83ae5-45dd-4959-af1a-7d82d8275888"
      },
      "outputs": [
        {
          "name": "stdout",
          "output_type": "stream",
          "text": [
            "R\n",
            "(80, 60, 1)\n"
          ]
        },
        {
          "data": {
            "text/plain": [
              "<matplotlib.image.AxesImage at 0x79bb9f84a650>"
            ]
          },
          "execution_count": 294,
          "metadata": {},
          "output_type": "execute_result"
        },
        {
          "data": {
            "image/png": "[encoded data removed]",
            "text/plain": [
              "<Figure size 640x480 with 1 Axes>"
            ]
          },
          "metadata": {},
          "output_type": "display_data"
        }
      ],
      "source": [
        "print(labels[0])\n",
        "print(images[0].shape)\n",
        "plt.imshow(images[0])"
      ]
    },
    {
      "cell_type": "code",
      "execution_count": 295,
      "metadata": {
        "id": "xDz94yF7y3wX"
      },
      "outputs": [],
      "source": [
        "def label_to_index(label):\n",
        "    if 'A' <= label <= 'Z':\n",
        "        return ord(label) - ord('A')\n",
        "    elif '0' <= label <= '9':\n",
        "        return ord(label) - ord('0') + 26\n",
        "    else:\n",
        "        raise ValueError(f\"Unsupported label: {label}\")\n",
        "\n",
        "labels = tf.keras.utils.to_categorical([label_to_index(label) for label in labels], num_classes=36)\n",
        "\n",
        "def custom_preprocessing(image):\n",
        "    kernel = np.ones((3,3), np.uint8)\n",
        "    eroded_image = cv2.dilate(image, kernel, iterations=2)\n",
        "    eroded_image = cv2.erode(image, kernel, iterations=1)\n",
        "    img_array = eroded_image.reshape(eroded_image.shape + (1,))\n",
        "    return img_array\n",
        "\n",
        "datagen = ImageDataGenerator(\n",
        "    rotation_range=10,\n",
        "    width_shift_range=0.1,\n",
        "    height_shift_range=0.1,\n",
        "    shear_range=0.1,\n",
        "    zoom_range=0.1,\n",
        "    horizontal_flip=False,\n",
        "    fill_mode='nearest',\n",
        "    preprocessing_function=custom_preprocessing\n",
        ")\n",
        "\n",
        "augmented_images = []\n",
        "augmented_labels = []\n",
        "\n",
        "for i, image in enumerate(images):\n",
        "    img_array = image.reshape((1,) + image.shape)\n",
        "    label = labels[i]\n",
        "\n",
        "    j = 0\n",
        "    for batch in datagen.flow(img_array, batch_size=1):\n",
        "        augmented_images.append(batch[0])\n",
        "        augmented_labels.append(label)\n",
        "        j += 1\n",
        "        if j >= num_augmented_images:\n",
        "            break\n",
        "\n",
        "augmented_images = np.array(augmented_images)\n",
        "augmented_labels = np.array(augmented_labels)\n",
        "\n",
        "augmented_images = augmented_images / 255.0\n",
        "\n",
        "x_train, x_val, y_train, y_val = train_test_split(augmented_images, augmented_labels, test_size=0.2, random_state=42)"
      ]
    },
    {
      "cell_type": "code",
      "execution_count": 296,
      "metadata": {
        "colab": {
          "base_uri": "https://localhost:8080/"
        },
        "id": "5gjZ05BgZYDH",
        "outputId": "f6592708-d12b-420c-eacb-286f7ec44bef"
      },
      "outputs": [
        {
          "data": {
            "text/plain": [
              "array([0., 0., 0., 0., 0., 0., 0., 0., 0., 0., 0., 0., 0., 0., 0., 0., 0.,\n",
              "       1., 0., 0., 0., 0., 0., 0., 0., 0., 0., 0., 0., 0., 0., 0., 0., 0.,\n",
              "       0., 0.], dtype=float32)"
            ]
          },
          "execution_count": 296,
          "metadata": {},
          "output_type": "execute_result"
        }
      ],
      "source": [
        "labels[0]"
      ]
    },
    {
      "cell_type": "code",
      "execution_count": 297,
      "metadata": {
        "id": "ut8GBpdvfpZ1"
      },
      "outputs": [],
      "source": [
        "import random"
      ]
    },
    {
      "cell_type": "code",
      "execution_count": 298,
      "metadata": {
        "colab": {
          "base_uri": "https://localhost:8080/",
          "height": 450
        },
        "id": "J3zXc2X123ka",
        "outputId": "1373689c-6654-4e0a-dca5-5b509d32b2e6"
      },
      "outputs": [
        {
          "data": {
            "text/plain": [
              "<matplotlib.image.AxesImage at 0x79bb9a0a5ed0>"
            ]
          },
          "execution_count": 298,
          "metadata": {},
          "output_type": "execute_result"
        },
        {
          "data": {
            "image/png": "[encoded data removed]",
            "text/plain": [
              "<Figure size 640x480 with 1 Axes>"
            ]
          },
          "metadata": {},
          "output_type": "display_data"
        }
      ],
      "source": [
        "plt.imshow(x_train[random.randint(0, 150)])"
      ]
    },
    {
      "cell_type": "code",
      "execution_count": 299,
      "metadata": {
        "colab": {
          "base_uri": "https://localhost:8080/"
        },
        "id": "jroTPlaU23RE",
        "outputId": "22286977-cc63-44d3-f4c2-e8f3de43d746"
      },
      "outputs": [
        {
          "name": "stdout",
          "output_type": "stream",
          "text": [
            "Epoch 1/12\n",
            "175/175 [==============================] - 38s 209ms/step - loss: 0.0790 - accuracy: 0.5389 - val_loss: 0.0212 - val_accuracy: 0.9286\n",
            "Epoch 2/12\n",
            "175/175 [==============================] - 39s 223ms/step - loss: 0.0088 - accuracy: 0.9773 - val_loss: 0.0063 - val_accuracy: 0.9829\n",
            "Epoch 3/12\n",
            "175/175 [==============================] - 36s 205ms/step - loss: 0.0023 - accuracy: 0.9968 - val_loss: 0.0045 - val_accuracy: 0.9900\n",
            "Epoch 4/12\n",
            "175/175 [==============================] - 39s 221ms/step - loss: 0.0015 - accuracy: 0.9989 - val_loss: 0.0034 - val_accuracy: 0.9921\n",
            "Epoch 5/12\n",
            "175/175 [==============================] - 35s 202ms/step - loss: 8.1853e-04 - accuracy: 0.9998 - val_loss: 0.0035 - val_accuracy: 0.9943\n",
            "Epoch 6/12\n",
            "175/175 [==============================] - 37s 211ms/step - loss: 8.5544e-04 - accuracy: 0.9987 - val_loss: 0.0025 - val_accuracy: 0.9950\n",
            "Epoch 7/12\n",
            "175/175 [==============================] - 35s 203ms/step - loss: 6.0587e-04 - accuracy: 0.9998 - val_loss: 0.0028 - val_accuracy: 0.9964\n",
            "Epoch 8/12\n",
            "175/175 [==============================] - 37s 213ms/step - loss: 0.0017 - accuracy: 0.9970 - val_loss: 0.0025 - val_accuracy: 0.9950\n",
            "Epoch 9/12\n",
            "175/175 [==============================] - 36s 204ms/step - loss: 3.8287e-04 - accuracy: 1.0000 - val_loss: 0.0019 - val_accuracy: 0.9964\n",
            "Epoch 10/12\n",
            "175/175 [==============================] - 37s 212ms/step - loss: 6.8765e-05 - accuracy: 1.0000 - val_loss: 0.0025 - val_accuracy: 0.9943\n",
            "Epoch 11/12\n",
            "175/175 [==============================] - 35s 202ms/step - loss: 3.6977e-05 - accuracy: 1.0000 - val_loss: 0.0017 - val_accuracy: 0.9971\n",
            "Epoch 12/12\n",
            "175/175 [==============================] - 37s 212ms/step - loss: 1.5331e-05 - accuracy: 1.0000 - val_loss: 0.0017 - val_accuracy: 0.9971\n"
          ]
        },
        {
          "data": {
            "text/plain": [
              "<keras.src.callbacks.History at 0x79bb9a11ff70>"
            ]
          },
          "execution_count": 299,
          "metadata": {},
          "output_type": "execute_result"
        }
      ],
      "source": [
        "# Build a simple CNN model\n",
        "model = Sequential([\n",
        "    Conv2D(32, (3, 3), activation='relu', input_shape=(img_height, img_width, 1)),\n",
        "    MaxPooling2D(pool_size=(2, 2)),\n",
        "    Conv2D(64, (3, 3), activation='relu'),\n",
        "    MaxPooling2D(pool_size=(2, 2)),\n",
        "    Flatten(),\n",
        "    Dense(128, activation='relu'),\n",
        "    Dense(36, activation='sigmoid')\n",
        "])\n",
        "\n",
        "# Compile the model\n",
        "model.compile(optimizer='adam', loss='binary_crossentropy', metrics=['accuracy'])\n",
        "\n",
        "# Train the model\n",
        "model.fit(\n",
        "    x_train, y_train,\n",
        "    epochs=epochs,\n",
        "    batch_size=batch_size,\n",
        "    validation_data=(x_val, y_val)\n",
        ")"
      ]
    },
    {
      "cell_type": "code",
      "execution_count": 300,
      "metadata": {
        "id": "XIwMx0i8B1Eh"
      },
      "outputs": [],
      "source": [
        "model.save('ocr.keras')"
      ]
    }
  ],
  "metadata": {
    "colab": {
      "provenance": []
    },
    "kernelspec": {
      "display_name": "Python 3",
      "name": "python3"
    },
    "language_info": {
      "name": "python"
    }
  },
  "nbformat": 4,
  "nbformat_minor": 0
}
